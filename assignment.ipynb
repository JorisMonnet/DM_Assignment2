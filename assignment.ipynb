{
 "cells": [
  {
   "cell_type": "markdown",
   "id": "20a9ea26d35a9774",
   "metadata": {
    "collapsed": false
   },
   "source": [
    "# Assignment 1\n",
    "## Digital Musicology\n",
    "\n",
    "@authors: Joris Monnet, Xingyu Pan, Yutaka Osaki, Yiwei Liu\n",
    "\n",
    "Due Date: 24/04/2024\n"
   ]
  },
  {
   "cell_type": "code",
   "execution_count": 3,
   "id": "initial_id",
   "metadata": {
    "collapsed": true
   },
   "outputs": [],
   "source": [
    "import music21"
   ]
  },
  {
   "cell_type": "markdown",
   "id": "d0c4d7988caba951",
   "metadata": {
    "collapsed": false
   },
   "source": [
    "# Task B\n",
    "\n",
    "From your analysis in task A, think about how to model these aspects computationally. In this task, choose one or more aspect(s) in your analysis you would like to model.\n",
    "\n",
    "You should write an algorithm that outputs a MIDI file from an musicXML or the unperformed MIDI. In your report, please clearly describe your model."
   ]
  },
  {
   "cell_type": "code",
   "execution_count": 210,
   "id": "6f0292ab",
   "metadata": {},
   "outputs": [],
   "source": [
    "midi_file_path = 'corrected_midi_score.mid'\n",
    "score = music21.converter.parse(midi_file_path)"
   ]
  },
  {
   "cell_type": "code",
   "execution_count": null,
   "id": "0a4366d5",
   "metadata": {},
   "outputs": [],
   "source": [
    "\n",
    "def print_durations(score, part_index, measure_number):\n",
    "    part = score.parts[part_index]\n",
    "    measure = part.measure(measure_number)\n",
    "    notes = measure.notes\n",
    "    print(f\"Track {part_index}, Measure {measure_number}, Durations:\")\n",
    "    for note in notes:\n",
    "        if isinstance(note, music21.note.Note):\n",
    "            print(f\"Note {note.pitch}: {note.duration.quarterLength} quarter lengths\")\n",
    "        elif isinstance(note, music21.chord.Chord):\n",
    "            pitches = ', '.join(str(p) for p in note.pitches)\n",
    "            print(f\"Chord {pitches}: {note.duration.quarterLength} quarter lengths\")\n"
   ]
  },
  {
   "cell_type": "markdown",
   "id": "7b6479c0",
   "metadata": {},
   "source": [
    "* 1st ~ 14th "
   ]
  },
  {
   "cell_type": "code",
   "execution_count": 250,
   "id": "08089138",
   "metadata": {},
   "outputs": [],
   "source": [
    "from music21 import midi\n",
    "\n",
    "def adjust_durations_for_specific_measure(score, measure_number, track1_new_durations=[0.75, 0.4, 0.3, 0.3, 1.25]):\n",
    "    \"\"\"\n",
    "    Adjusts the durations of notes in a specific measure of a score and ensures that the durations\n",
    "    of notes in another track are updated proportionally to match the total duration of the modified measure.\n",
    "\n",
    "    Parameters:\n",
    "        score (music21.stream.Score): The score containing the music parts.\n",
    "        measure_number (int): The measure number to adjust durations for.\n",
    "        track1_new_durations (list[float]): List of new durations for notes in track1.\n",
    "\n",
    "    Returns:\n",
    "        music21.stream.Score: The score with adjusted durations.\n",
    "    \"\"\"\n",
    "    # Get the relevant tracks from the score\n",
    "    track1 = score.parts[1]\n",
    "    track0 = score.parts[0]\n",
    "\n",
    "    # Get the specific measure from each track\n",
    "    track1_measure = track1.measure(measure_number)\n",
    "    track0_measure = track0.measure(measure_number)\n",
    "\n",
    "    # Update durations of notes in track1\n",
    "    for note, new_duration in zip(track1_measure.notes, track1_new_durations):\n",
    "        note.duration.quarterLength = new_duration\n",
    "\n",
    "    # Calculate total new duration of the modified track1 measure\n",
    "    total_new_duration = sum(track1_new_durations)\n",
    "\n",
    "    # Update durations of notes in track0 proportionally\n",
    "    track0_notes = track0_measure.notes\n",
    "    total_original_duration = sum(note.duration.quarterLength for note in track0_notes)\n",
    "    scale_factor = total_new_duration / total_original_duration if total_original_duration != 0 else 0\n",
    "\n",
    "    for note in track0_notes:\n",
    "        note.duration.quarterLength *= scale_factor\n",
    "\n",
    "    return score\n",
    "\n",
    "def execute_adjust_durations_for_specific_measure(score, start_measure_number, end_measure_number):\n",
    "    # Adjust durations from start_measure_number to end_measure_number\n",
    "    for i in range(start_measure_number, end_measure_number+1):\n",
    "        score = adjust_durations_for_specific_measure(score, i)\n",
    "        print(f\"Measure {i} adjusted.\")\n",
    "\n",
    "    return score\n"
   ]
  },
  {
   "cell_type": "markdown",
   "id": "e328912f",
   "metadata": {},
   "source": [
    "* 15 ~ 18"
   ]
  },
  {
   "cell_type": "code",
   "execution_count": 248,
   "id": "80386fbb",
   "metadata": {},
   "outputs": [],
   "source": [
    "from music21 import midi, stream\n",
    "\n",
    "def change_duration_in_measure(score, measure_number, target_duration, new_duration, track_number=0):\n",
    "    \"\"\"\n",
    "    Changes the duration of notes with a specific duration in a specified measure of a specified track within a MIDI file.\n",
    "\n",
    "    Params:\n",
    "        midi_file_path (str): Path to the MIDI file to be processed.\n",
    "        track_number (int): The track number to process (0-indexed).\n",
    "        measure_number (int): The measure number where notes' duration will be changed (1-indexed).\n",
    "        target_duration (float): The duration of the notes to be changed.\n",
    "        new_duration (float): The new duration to be applied to the notes.\n",
    "\n",
    "    Returns:\n",
    "        music21.stream.Score: The modified Score object with updated note durations in the specified measure.\n",
    "    \"\"\"\n",
    "    # Access the specific part (track)\n",
    "    target_part = score.parts[track_number]\n",
    "    \n",
    "    # Access the specific measure\n",
    "    target_measure = target_part.measure(measure_number)\n",
    "    # Iterate over all notes in the measure\n",
    "    for note in target_measure.notes:\n",
    "        # Check if the note's duration matches the target duration\n",
    "        if note.duration.quarterLength == target_duration:\n",
    "            # Change the note's duration to the new specified duration\n",
    "            note.duration.quarterLength = new_duration\n",
    "\n",
    "    return score\n",
    "def execute_change_duration_in_measure(score, start_measure_number, end_measure_number):\n",
    "    # Adjust durations from start_measure_number to end_measure_number\n",
    "    for i in range(start_measure_number, end_measure_number+1):\n",
    "        score = change_duration_in_measure(score, 15, 0.5, 0.3, 0)\n",
    "        print(f\"Measure {i} adjusted.\")\n",
    "\n",
    "    return score"
   ]
  },
  {
   "cell_type": "markdown",
   "id": "50f6fa7d",
   "metadata": {},
   "source": [
    "* 19 ~ 26"
   ]
  },
  {
   "cell_type": "code",
   "execution_count": 244,
   "id": "d4212797",
   "metadata": {},
   "outputs": [],
   "source": [
    "from music21 import midi\n",
    "\n",
    "def accelerate_measure(score, measure_number, accelerate_rate, track_numbers=[0, 1]):\n",
    "    \"\"\"\n",
    "    Accelerates the durations of notes within a specified measure by adjusting their lengths relative to the first note's duration, such that the last note's duration is accelerate_rate times faster than the first note's duration.\n",
    "\n",
    "    Parameters:\n",
    "        score (music21.stream.Score): The score object containing the measure to be accelerated.\n",
    "        measure_number (int): The number of the measure to be accelerated.\n",
    "        accelerate_rate (float): The rate at which the durations should accelerate.\n",
    "            means the last note's duration will be half of the first note's duration.\n",
    "        track_numbers (list of int): List of track numbers to process (0 or 1).\n",
    "\n",
    "    Returns:\n",
    "        music21.stream.Score: The modified score object with the accelerated measure.\n",
    "    \"\"\"\n",
    "    for track_number in track_numbers:\n",
    "        track = score.parts[track_number]\n",
    "        measure = track.measure(measure_number)\n",
    "        if measure is None:\n",
    "            continue\n",
    "        notes = measure.recurse().notes\n",
    "        base_duration = notes[0].duration.quarterLength\n",
    "        num_notes = len(notes)\n",
    "        for i, note in enumerate(notes):\n",
    "            if i == 0:\n",
    "                continue\n",
    "            accelerate_factor = accelerate_rate ** ((i + 1) / num_notes)\n",
    "            note.duration.quarterLength = base_duration / accelerate_factor\n",
    "    \n",
    "    return score"
   ]
  },
  {
   "cell_type": "markdown",
   "id": "dcb79cfe",
   "metadata": {},
   "source": [
    "* 27 ~ 30"
   ]
  },
  {
   "cell_type": "code",
   "execution_count": 247,
   "id": "19d278dc",
   "metadata": {},
   "outputs": [],
   "source": [
    "def increase_volume_of_higher_notes_in_track(score, start_measure_number, end_measure_number, track_number=0, volume_increase=10):\n",
    "    \"\"\"\n",
    "    Increases the volume of the higher-pitched note in pairs of sixteenth notes within specified measures in a specific track of a score.\n",
    "    \n",
    "    Params:\n",
    "        score (music21.stream.Score): The Score object to be processed.\n",
    "        track_number (int): The track number to process (1-indexed).\n",
    "        start_measure_number (int): The measure number to start processing (inclusive).\n",
    "        end_measure_number (int): The measure number to end processing (inclusive).\n",
    "        volume_increase (int): The amount by which to increase the volume of the higher-pitched note.\n",
    "\n",
    "    Returns:\n",
    "        music21.stream.Score: The modified Score object with increased volumes for higher-pitched notes in the specified measures of the specified track.\n",
    "    \"\"\"\n",
    "    \n",
    "    target_part = score.parts[track_number]\n",
    "    \n",
    "    for i in range(start_measure_number, end_measure_number + 1):\n",
    "        target_measure = target_part.measure(i)\n",
    "        for note1, note2 in zip(target_measure.notes[:-1], target_measure.notes[1:]):\n",
    "            if note1.duration.quarterLength == 0.25 and note2.duration.quarterLength == 0.25:\n",
    "                # Extract pitches; handle both Note and Chord objects\n",
    "                pitch1 = note1.pitches[-1] if isinstance(note1, music21.chord.Chord) else note1.pitch\n",
    "                pitch2 = note2.pitches[-1] if isinstance(note2, music21.chord.Chord) else note2.pitch\n",
    "\n",
    "                # Increase volume of the higher-pitched note\n",
    "                if pitch1 > pitch2:\n",
    "                    note1.volume.velocity += volume_increase\n",
    "                else:\n",
    "                    note2.volume.velocity += volume_increase\n",
    "            \n",
    "        print(f\"Measure {i} adjusted.\")\n",
    "\n",
    "    return score"
   ]
  },
  {
   "cell_type": "markdown",
   "id": "957fa110",
   "metadata": {},
   "source": [
    "### Execute all function"
   ]
  },
  {
   "cell_type": "code",
   "execution_count": 253,
   "id": "81cb2ed5",
   "metadata": {},
   "outputs": [
    {
     "name": "stdout",
     "output_type": "stream",
     "text": [
      "Measure 1 adjusted.\n",
      "Measure 2 adjusted.\n",
      "Measure 3 adjusted.\n",
      "Measure 4 adjusted.\n",
      "Measure 5 adjusted.\n",
      "Measure 6 adjusted.\n",
      "Measure 7 adjusted.\n",
      "Measure 8 adjusted.\n",
      "Measure 9 adjusted.\n",
      "Measure 10 adjusted.\n",
      "Measure 11 adjusted.\n",
      "Measure 12 adjusted.\n",
      "Measure 13 adjusted.\n",
      "Measure 14 adjusted.\n",
      "Measure 15 adjusted.\n",
      "Measure 16 adjusted.\n",
      "Measure 17 adjusted.\n",
      "Measure 18 adjusted.\n",
      "Measure 27 adjusted.\n",
      "Measure 28 adjusted.\n",
      "Measure 29 adjusted.\n",
      "Measure 30 adjusted.\n"
     ]
    }
   ],
   "source": [
    "\n",
    "# Load the MIDI file\n",
    "mf = midi.MidiFile()\n",
    "mf.open('corrected_midi_score.mid')\n",
    "mf.read()\n",
    "mf.close()\n",
    "\n",
    "# Convert MIDI file to a music21 stream\n",
    "score = midi.translate.midiFileToStream(mf)\n",
    "modified_score = execute_adjust_durations_for_specific_measure(score, 1, 14)\n",
    "modified_score = execute_change_duration_in_measure(modified_score, 15, 18)\n",
    "modified_score = accelerate_measure(modified_score, 19, 1.2)\n",
    "modified_score = accelerate_measure(modified_score, 20, 0.9)\n",
    "modified_score = accelerate_measure(modified_score, 21, 1.2)\n",
    "modified_score = accelerate_measure(modified_score, 22, 0.8)\n",
    "modified_score = accelerate_measure(modified_score, 23, 1.0)\n",
    "modified_score = accelerate_measure(modified_score, 24, 1.0)\n",
    "modified_score = accelerate_measure(modified_score, 25, 1.2)\n",
    "modified_score = accelerate_measure(modified_score, 26, 1.0)\n",
    "modified_score = increase_volume_of_higher_notes_in_track(modified_score, 27, 30)"
   ]
  },
  {
   "cell_type": "markdown",
   "id": "e17309db",
   "metadata": {},
   "source": [
    "### others"
   ]
  },
  {
   "cell_type": "code",
   "execution_count": 207,
   "id": "816b6acf",
   "metadata": {},
   "outputs": [
    {
     "name": "stdout",
     "output_type": "stream",
     "text": [
      "Part 1: 0 notes in measure 14\n",
      "Part 2: 5 notes in measure 14\n"
     ]
    }
   ],
   "source": [
    "import music21  # music21 ライブラリをインポート\n",
    "\n",
    "def count_notes_in_measure(score, measure_number):\n",
    "    \"\"\"\n",
    "    指定された小節番号における全パートの音符の数を表示する関数。\n",
    "\n",
    "    Parameters:\n",
    "        score (music21.stream.Score): 解析する楽譜。\n",
    "        measure_number (int): 音符の数を数えたい小節番号。\n",
    "    \"\"\"\n",
    "    # スコアの各パートをループ処理\n",
    "    for part_index, part in enumerate(score.parts):\n",
    "        measure = part.measure(measure_number)  # 指定した小節番号の小節を取得\n",
    "        notes = measure.notes  # 小節内の音符リストを取得\n",
    "        print(f\"Part {part_index + 1}: {len(notes)} notes in measure {measure_number}\")\n",
    "\n",
    "# MIDI ファイルを読み込む\n",
    "midi_file_path = 'corrected_midi_score.mid'\n",
    "score = music21.converter.parse(midi_file_path)\n",
    "\n",
    "# 例として、小節番号 5 の音符の数を調べる\n",
    "count_notes_in_measure(score, 14)\n"
   ]
  },
  {
   "cell_type": "code",
   "execution_count": 233,
   "id": "9a62537a",
   "metadata": {},
   "outputs": [
    {
     "name": "stdout",
     "output_type": "stream",
     "text": [
      "Number of notes in measure 19 of track 1: 13\n"
     ]
    }
   ],
   "source": [
    "from music21 import midi\n",
    "\n",
    "# Load the MIDI file\n",
    "mf = midi.MidiFile()\n",
    "mf.open('corrected_midi_score.mid')\n",
    "mf.read()\n",
    "mf.close()\n",
    "\n",
    "# Convert MIDI file to a music21 stream\n",
    "my_stream = midi.translate.midiFileToStream(mf)\n",
    "\n",
    "# Select a specific track, for example track 1\n",
    "specific_track = my_stream.parts[0]  # This assumes that the part you are interested in is the first part\n",
    "i = 19\n",
    "# Select a specific measure from the track, for example measure 5\n",
    "specific_measure = specific_track.measure(i)  # This gets the 5th measure of the selected part\n",
    "\n",
    "# Count the number of notes in the specific measure\n",
    "note_count = len(specific_measure.recurse().notes)\n",
    "print(f\"Number of notes in measure {i} of track 1:\", note_count)"
   ]
  },
  {
   "cell_type": "markdown",
   "id": "e3f7a5259e3aaf60",
   "metadata": {
    "collapsed": false
   },
   "source": [
    "## Task C\n",
    "\n",
    "Compare your generated MIDI with both the unperformed MIDI and the human performace recording. Discuss their differences and potentially what and how you can further improve. This should be part of your discussion section in the report."
   ]
  },
  {
   "cell_type": "code",
   "execution_count": null,
   "id": "6a309bc44a355908",
   "metadata": {
    "collapsed": false
   },
   "outputs": [],
   "source": [
    "# TODO visualizations of differences ?"
   ]
  }
 ],
 "metadata": {
  "kernelspec": {
   "display_name": "Python 3",
   "language": "python",
   "name": "python3"
  },
  "language_info": {
   "codemirror_mode": {
    "name": "ipython",
    "version": 3
   },
   "file_extension": ".py",
   "mimetype": "text/x-python",
   "name": "python",
   "nbconvert_exporter": "python",
   "pygments_lexer": "ipython3",
   "version": "3.10.4"
  }
 },
 "nbformat": 4,
 "nbformat_minor": 5
}
