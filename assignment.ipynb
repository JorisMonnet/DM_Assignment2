{
 "cells": [
  {
   "cell_type": "markdown",
   "id": "20a9ea26d35a9774",
   "metadata": {
    "collapsed": false
   },
   "source": [
    "# Assignment 1\n",
    "## Digital Musicology\n",
    "\n",
    "@authors: Joris Monnet, Xingyu Pan, Yutaka Osaki, Yiwei Liu\n",
    "\n",
    "Due Date: 24/04/2024\n"
   ]
  },
  {
   "cell_type": "code",
   "execution_count": 1,
   "id": "initial_id",
   "metadata": {
    "collapsed": true
   },
   "outputs": [],
   "source": [
    "import music21"
   ]
  },
  {
   "cell_type": "markdown",
   "id": "368090328cc6a032",
   "metadata": {
    "collapsed": false
   },
   "source": [
    "## Task A\n",
    "\n",
    "TODO: open and listen a midi file"
   ]
  },
  {
   "cell_type": "markdown",
   "id": "7d0a6fd2",
   "metadata": {},
   "source": [
    "- The speed varies near consecutive notes [ex. 0:00~1:00]\n",
    "- When the sound is loud, the tempo is fast, and when the sound is soft, the tempo is slow[ ex. 1:10~]\n",
    "- When the pitch is high, the tempo is fast [ex. 1:23]\n",
    "- The tempo gradually quickens as the staccato continues [ex. 1:40~2:00]\n",
    "- When moving from high to low notes, the tempo slows significantly.\n",
    "- When the same recurrent phrase continues, the tempo becomes slow [ex. 2:40~3:15]\n",
    "- When it suddenly becomes higher pitched, the tempo slows down at the end [ex. 4:10~]\n",
    "- The tempo is more likely to change when a few notes are played at once. [ex. 10:00~]"
   ]
  },
  {
   "cell_type": "markdown",
   "id": "d0c4d7988caba951",
   "metadata": {
    "collapsed": false
   },
   "source": [
    "# Task B\n",
    "\n",
    "From your analysis in task A, think about how to model these aspects computationally. In this task, choose one or more aspect(s) in your analysis you would like to model.\n",
    "\n",
    "You should write an algorithm that outputs a MIDI file from an musicXML or the unperformed MIDI. In your report, please clearly describe your model."
   ]
  },
  {
   "cell_type": "markdown",
   "id": "89fd8b19",
   "metadata": {},
   "source": [
    "### Import original midi"
   ]
  },
  {
   "cell_type": "code",
   "execution_count": 3,
   "id": "a703c417",
   "metadata": {},
   "outputs": [],
   "source": [
    "path_to_file = \"../Mephisto_Waltz/\""
   ]
  },
  {
   "cell_type": "code",
   "execution_count": 4,
   "id": "83f105e7d0c19cf4",
   "metadata": {
    "collapsed": false
   },
   "outputs": [],
   "source": [
    "original_midi_path = f\"{path_to_file}midi_score.mid\"\n",
    "oritinal_txt_path  = f\"{path_to_file}midi_score.txt\"\n",
    "original_midi = music21.converter.parse(original_midi_path)"
   ]
  },
  {
   "cell_type": "markdown",
   "id": "301a12ba",
   "metadata": {},
   "source": [
    "### Functions"
   ]
  },
  {
   "cell_type": "code",
   "execution_count": 5,
   "id": "d1fd2e8e",
   "metadata": {},
   "outputs": [],
   "source": [
    "def generate_expressive_MIDI(original_midi):\n",
    "    midifile = original_midi\n",
    "    return midifile"
   ]
  },
  {
   "cell_type": "markdown",
   "id": "74ac0d61",
   "metadata": {},
   "source": [
    "### Get Pitchs and Volume"
   ]
  },
  {
   "cell_type": "code",
   "execution_count": 60,
   "id": "0b1a6207",
   "metadata": {},
   "outputs": [],
   "source": [
    "def get_pitches(score):\n",
    "    print(\"----------- Start Getting Pitches -----------\")\n",
    "    pitches = []\n",
    "    for element in score.recurse():\n",
    "        if isinstance(element, music21.note.Note):\n",
    "            pitches.append(element.pitch.frequency)\n",
    "        elif isinstance(element, music21.chord.Chord):\n",
    "            pitches.extend([n.pitch.frequency for n in element.notes])\n",
    "    print(\"----------- Finish Getting Pitches -----------\")\n",
    "    return sorted(set(pitches))\n",
    "\n",
    "def get_volume(score):\n",
    "    print(\"----------- Start Getting Volume -----------\")\n",
    "    velocities = [note.volume.velocity for note in score.recurse().notes]\n",
    "    unique_velocities = list(set(velocities))\n",
    "    unique_velocities.sort()\n",
    "    print(\"----------- Finish Getting Volume -----------\")\n",
    "    return unique_velocities"
   ]
  },
  {
   "cell_type": "markdown",
   "id": "4830fce7",
   "metadata": {},
   "source": [
    "### Edit Tempo and Length"
   ]
  },
  {
   "cell_type": "code",
   "execution_count": 61,
   "id": "0c400d23",
   "metadata": {},
   "outputs": [],
   "source": [
    "def edit_tempo_by_pitches(score, pitches_sorted, factor=2.00):\n",
    "    print(\"----------- Start Editing Tempo -----------\")\n",
    "    high_pitches, low_pitches = pitches_sorted[len(pitches_sorted) // 2:], pitches_sorted[:len(pitches_sorted) // 2]\n",
    "    for element in score.recurse():\n",
    "        if isinstance(element, music21.note.Note) or isinstance(element, music21.chord.Chord):\n",
    "            element_pitches = [element.pitch] if isinstance(element, music21.note.Note) else [n.pitch for n in element.notes]\n",
    "            current_tempo = element.getContextByClass(music21.tempo.MetronomeMark)\n",
    "            if current_tempo:\n",
    "                for pitch in element_pitches:\n",
    "                    if pitch in high_pitches:\n",
    "                        index = high_pitches.index(pitch)\n",
    "                        new_tempo = music21.tempo.MetronomeMark(number=current_tempo.number * (factor ** ((index+1) / len(high_pitches))))\n",
    "                        score.insert(element.offset, new_tempo)\n",
    "                        break\n",
    "                    elif pitch in low_pitches:\n",
    "                        index = low_pitches.index(pitch)\n",
    "                        new_tempo = music21.tempo.MetronomeMark(number=current_tempo.number / (factor ** ((index+1) / len(low_pitches))))\n",
    "                        score.insert(element.offset, new_tempo)\n",
    "                        break\n",
    "    print(\"----------- Finish Editing Tempo -----------\")\n",
    "    return score\n",
    "def edit_NoteLength_by_volume(score, unique_velocities, factor=2.00):\n",
    "    print(\"----------- Start Editing Note Length -----------\")\n",
    "    high_velocities, low_velocities = unique_velocities[len(unique_velocities) // 2:], unique_velocities[:len(unique_velocities) // 2]\n",
    "    for note in score.recurse().notes:\n",
    "        if note.volume.velocity in high_velocities:\n",
    "            index = high_velocities.index(note.volume.velocity)\n",
    "            note.quarterLength *= factor ** -(index / len(high_velocities))\n",
    "        elif note.volume.velocity in low_velocities:\n",
    "            index = low_velocities.index(note.volume.velocity)\n",
    "            note.quarterLength *= factor ** ((len(low_velocities) - 1 - index) / len(low_velocities))\n",
    "\n",
    "    print(\"----------- Finish Editing Note Length -----------\")\n",
    "    return score"
   ]
  },
  {
   "cell_type": "markdown",
   "id": "8bfdebe2",
   "metadata": {},
   "source": [
    "### Execute functions"
   ]
  },
  {
   "cell_type": "code",
   "execution_count": 62,
   "id": "837274af",
   "metadata": {},
   "outputs": [],
   "source": [
    "def adjust_midi_tempo(midi_file, factor = 2.00):\n",
    "    try:\n",
    "        score = music21.converter.parse(midi_file)\n",
    "    except:\n",
    "        score = midi_file\n",
    "    pitches_sorted = get_pitches(score)\n",
    "    edited_score = edit_tempo_by_pitches(score, pitches_sorted, factor)\n",
    "    return edited_score\n",
    "def adjust_midi_velocity(midi_file, factor = 2.00):\n",
    "    try:\n",
    "        score = music21.converter.parse(midi_file)\n",
    "    except:\n",
    "        score = midi_file\n",
    "    unique_velocities = get_volume(score)\n",
    "    score = edit_NoteLength_by_volume(score, unique_velocities, factor)\n",
    "    return score"
   ]
  },
  {
   "cell_type": "markdown",
   "id": "41131a3a",
   "metadata": {},
   "source": [
    "### Fucntion to Save"
   ]
  },
  {
   "cell_type": "code",
   "execution_count": 66,
   "id": "e80e157d",
   "metadata": {},
   "outputs": [],
   "source": [
    "import os\n",
    "def save_midi(score, directory=\"edited\", base_filename=\"edited\"):\n",
    "    print(\"----------- Start Downloading midi file -----------\")\n",
    "    if not os.path.exists(directory):\n",
    "        os.makedirs(directory)\n",
    "    files = os.listdir(directory)\n",
    "    count = sum(1 for file in files if file.startswith(base_filename) and file.endswith(\".midi\"))\n",
    "    new_filename = f\"{base_filename}_{count + 1:02d}.midi\"\n",
    "    file_path = os.path.join(directory, new_filename)\n",
    "    mf = music21.midi.translate.music21ObjectToMidiFile(score)\n",
    "    mf.open(file_path, 'wb')\n",
    "    mf.write()\n",
    "    mf.close()\n",
    "    print(\"----------- Finish Downloading midi file -----------\")\n",
    "    return file_path"
   ]
  },
  {
   "cell_type": "markdown",
   "id": "0b7740af",
   "metadata": {},
   "source": [
    "### Execution"
   ]
  },
  {
   "cell_type": "code",
   "execution_count": 65,
   "id": "1c64f431",
   "metadata": {},
   "outputs": [
    {
     "name": "stdout",
     "output_type": "stream",
     "text": [
      "----------- Start Getting Pitches -----------\n",
      "----------- Finish Getting Pitches -----------\n",
      "----------- Start Editing Tempo -----------\n",
      "----------- Finish Editing Tempo -----------\n",
      "----------- Start Getting Volume -----------\n",
      "----------- Finish Getting Volume -----------\n",
      "----------- Start Editing Note Length -----------\n",
      "----------- Finish Editing Note Length -----------\n",
      "----------- Start Downloading midi file -----------\n",
      "----------- Finish Downloading midi file -----------\n"
     ]
    },
    {
     "data": {
      "text/plain": [
       "'edited/edited_08.midi'"
      ]
     },
     "execution_count": 65,
     "metadata": {},
     "output_type": "execute_result"
    }
   ],
   "source": [
    "edited_score_by_tempo = adjust_midi_tempo(original_midi_path)\n",
    "edited_score_by_volume = adjust_midi_velocity(edited_score_by_tempo)\n",
    "save_midi(edited_score_by_volume)"
   ]
  },
  {
   "cell_type": "markdown",
   "id": "e3f7a5259e3aaf60",
   "metadata": {
    "collapsed": false
   },
   "source": [
    "## Task C\n",
    "\n",
    "Compare your generated MIDI with both the unperformed MIDI and the human performace recording. Discuss their differences and potentially what and how you can further improve. This should be part of your discussion section in the report."
   ]
  },
  {
   "cell_type": "code",
   "execution_count": null,
   "id": "6a309bc44a355908",
   "metadata": {
    "collapsed": false
   },
   "outputs": [],
   "source": [
    "# TODO visualizations of differences ?"
   ]
  }
 ],
 "metadata": {
  "kernelspec": {
   "display_name": "Python 3",
   "language": "python",
   "name": "python3"
  },
  "language_info": {
   "codemirror_mode": {
    "name": "ipython",
    "version": 3
   },
   "file_extension": ".py",
   "mimetype": "text/x-python",
   "name": "python",
   "nbconvert_exporter": "python",
   "pygments_lexer": "ipython3",
   "version": "3.10.4"
  }
 },
 "nbformat": 4,
 "nbformat_minor": 5
}
