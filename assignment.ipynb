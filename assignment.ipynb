{
 "cells": [
  {
   "cell_type": "markdown",
   "id": "20a9ea26d35a9774",
   "metadata": {
    "collapsed": false
   },
   "source": [
    "# Assignment 1\n",
    "## Digital Musicology\n",
    "\n",
    "@authors: Joris Monnet, Xingyu Pan, Yutaka Osaki, Yiwei Liu\n",
    "\n",
    "Due Date: 24/04/2024\n"
   ]
  },
  {
   "cell_type": "markdown",
   "id": "d0c4d7988caba951",
   "metadata": {
    "collapsed": false
   },
   "source": [
    "# Task B\n",
    "\n",
    "From your analysis in task A, think about how to model these aspects computationally. In this task, choose one or more aspect(s) in your analysis you would like to model.\n",
    "\n",
    "You should write an algorithm that outputs a MIDI file from an musicXML or the unperformed MIDI. In your report, please clearly describe your model."
   ]
  },
  {
   "cell_type": "code",
   "execution_count": 3,
   "id": "6f0292ab",
   "metadata": {
    "ExecuteTime": {
     "end_time": "2024-04-24T01:22:07.320963Z",
     "start_time": "2024-04-24T01:22:06.510636Z"
    }
   },
   "outputs": [],
   "source": [
    "from src.utils import get_stream\n",
    "\n",
    "midi_file_path = './Berceuse_op_57/corrected_midi_score.mid'\n",
    "my_stream = get_stream(midi_file_path)"
   ]
  },
  {
   "cell_type": "markdown",
   "id": "957fa110",
   "metadata": {},
   "source": [
    "### Execute all function"
   ]
  },
  {
   "cell_type": "code",
   "execution_count": 4,
   "id": "81cb2ed5",
   "metadata": {
    "ExecuteTime": {
     "end_time": "2024-04-24T01:22:07.799470Z",
     "start_time": "2024-04-24T01:22:07.324974Z"
    }
   },
   "outputs": [
    {
     "name": "stdout",
     "output_type": "stream",
     "text": [
      "Measure 1 adjusted.\n",
      "Measure 2 adjusted.\n",
      "Measure 3 adjusted.\n",
      "Measure 4 adjusted.\n",
      "Measure 5 adjusted.\n",
      "Measure 6 adjusted.\n",
      "Measure 7 adjusted.\n",
      "Measure 8 adjusted.\n",
      "Measure 9 adjusted.\n",
      "Measure 10 adjusted.\n",
      "Measure 11 adjusted.\n",
      "Measure 12 adjusted.\n",
      "Measure 13 adjusted.\n",
      "Measure 14 adjusted.\n",
      "Measure 15 adjusted.\n",
      "Measure 16 adjusted.\n",
      "Measure 17 adjusted.\n",
      "Measure 18 adjusted.\n",
      "Measure 27 adjusted.\n",
      "Measure 28 adjusted.\n",
      "Measure 29 adjusted.\n",
      "Measure 30 adjusted.\n",
      "Measure 40 adjusted.\n",
      "Measure 41 adjusted.\n",
      "Measure 45 adjusted.\n",
      "Measure 46 adjusted.\n"
     ]
    },
    {
     "ename": "ValueError",
     "evalue": "max() arg is an empty sequence",
     "output_type": "error",
     "traceback": [
      "\u001B[1;31m---------------------------------------------------------------------------\u001B[0m",
      "\u001B[1;31mValueError\u001B[0m                                Traceback (most recent call last)",
      "Cell \u001B[1;32mIn[4], line 49\u001B[0m\n\u001B[0;32m     46\u001B[0m \u001B[38;5;66;03m# Change Loudness \u001B[39;00m\n\u001B[0;32m     47\u001B[0m \u001B[38;5;28;01mfrom\u001B[39;00m \u001B[38;5;21;01msrc\u001B[39;00m\u001B[38;5;21;01m.\u001B[39;00m\u001B[38;5;21;01mdynamics\u001B[39;00m \u001B[38;5;28;01mimport\u001B[39;00m change_dynamics_for_whole_piece\n\u001B[1;32m---> 49\u001B[0m my_stream \u001B[38;5;241m=\u001B[39m \u001B[43mchange_dynamics_for_whole_piece\u001B[49m\u001B[43m(\u001B[49m\u001B[43mmy_stream\u001B[49m\u001B[43m)\u001B[49m\n\u001B[0;32m     51\u001B[0m \u001B[38;5;66;03m# Save the modified score\u001B[39;00m\n\u001B[0;32m     52\u001B[0m \u001B[38;5;28;01mfrom\u001B[39;00m \u001B[38;5;21;01msrc\u001B[39;00m\u001B[38;5;21;01m.\u001B[39;00m\u001B[38;5;21;01mutils\u001B[39;00m \u001B[38;5;28;01mimport\u001B[39;00m save_midi\n",
      "File \u001B[1;32m~\\Desktop\\epfl\\MA4\\DM_Assignement2\\src\\dynamics.py:153\u001B[0m, in \u001B[0;36mchange_dynamics_for_whole_piece\u001B[1;34m(my_stream)\u001B[0m\n\u001B[0;32m    151\u001B[0m     my_stream \u001B[38;5;241m=\u001B[39m classical_dynamics_shape(my_stream, i, \u001B[38;5;28mint\u001B[39m(\u001B[38;5;241m57\u001B[39m \u001B[38;5;241m-\u001B[39m j \u001B[38;5;241m*\u001B[39m \u001B[38;5;241m1.5\u001B[39m), \u001B[38;5;241m100\u001B[39m \u001B[38;5;241m-\u001B[39m j \u001B[38;5;241m*\u001B[39m \u001B[38;5;241m2\u001B[39m)\n\u001B[0;32m    152\u001B[0m     j \u001B[38;5;241m+\u001B[39m\u001B[38;5;241m=\u001B[39m \u001B[38;5;241m1\u001B[39m\n\u001B[1;32m--> 153\u001B[0m my_stream \u001B[38;5;241m=\u001B[39m \u001B[43mchange_dynamics_decrescendo_measure\u001B[49m\u001B[43m(\u001B[49m\u001B[43mmy_stream\u001B[49m\u001B[43m,\u001B[49m\u001B[43m \u001B[49m\u001B[38;5;241;43m68\u001B[39;49m\u001B[43m,\u001B[49m\u001B[43m \u001B[49m\u001B[38;5;124;43m\"\u001B[39;49m\u001B[38;5;124;43mmp\u001B[39;49m\u001B[38;5;124;43m\"\u001B[39;49m\u001B[43m,\u001B[49m\u001B[43m \u001B[49m\u001B[38;5;124;43m\"\u001B[39;49m\u001B[38;5;124;43mp\u001B[39;49m\u001B[38;5;124;43m\"\u001B[39;49m\u001B[43m)\u001B[49m\n\u001B[0;32m    154\u001B[0m my_stream \u001B[38;5;241m=\u001B[39m change_dynamics_decrescendo_measure(my_stream, \u001B[38;5;241m69\u001B[39m, \u001B[38;5;124m\"\u001B[39m\u001B[38;5;124mpp\u001B[39m\u001B[38;5;124m\"\u001B[39m, \u001B[38;5;124m\"\u001B[39m\u001B[38;5;124mppp\u001B[39m\u001B[38;5;124m\"\u001B[39m)\n\u001B[0;32m    156\u001B[0m \u001B[38;5;28;01mreturn\u001B[39;00m my_stream\n",
      "File \u001B[1;32m~\\Desktop\\epfl\\MA4\\DM_Assignement2\\src\\dynamics.py:31\u001B[0m, in \u001B[0;36mchange_dynamics_decrescendo_measure\u001B[1;34m(my_stream, measure, start_dynamic, end_dynamic)\u001B[0m\n\u001B[0;32m     29\u001B[0m decrescendo\u001B[38;5;241m.\u001B[39mstart_offset \u001B[38;5;241m=\u001B[39m \u001B[38;5;241m0\u001B[39m\n\u001B[0;32m     30\u001B[0m decrescendo\u001B[38;5;241m.\u001B[39mend_measure \u001B[38;5;241m=\u001B[39m measure\n\u001B[1;32m---> 31\u001B[0m decrescendo\u001B[38;5;241m.\u001B[39mend_offset \u001B[38;5;241m=\u001B[39m \u001B[38;5;28;43mmax\u001B[39;49m\u001B[43m(\u001B[49m\u001B[43moffsets\u001B[49m\u001B[43m)\u001B[49m\n\u001B[0;32m     32\u001B[0m decrescendo\u001B[38;5;241m.\u001B[39mstart_dynamic \u001B[38;5;241m=\u001B[39m dynamics\u001B[38;5;241m.\u001B[39mDynamic(start_dynamic)\n\u001B[0;32m     33\u001B[0m decrescendo\u001B[38;5;241m.\u001B[39mend_dynamic \u001B[38;5;241m=\u001B[39m dynamics\u001B[38;5;241m.\u001B[39mDynamic(end_dynamic)\n",
      "\u001B[1;31mValueError\u001B[0m: max() arg is an empty sequence"
     ]
    }
   ],
   "source": [
    "from src.articulations import increase_volume_of_higher_notes_in_track\n",
    "from src.timings import execute_adjust_durations_for_specific_measure, execute_change_duration_in_measure, \\\n",
    "    accelerate_measure\n",
    "\n",
    "# Convert MIDI file to a music21 stream\n",
    "modified_score = execute_adjust_durations_for_specific_measure(my_stream, 1, 14)\n",
    "modified_score = execute_change_duration_in_measure(modified_score, 15, 18)\n",
    "modified_score = accelerate_measure(modified_score, 19, 1.2)\n",
    "modified_score = accelerate_measure(modified_score, 20, 0.9)\n",
    "modified_score = accelerate_measure(modified_score, 21, 1.2)\n",
    "modified_score = accelerate_measure(modified_score, 22, 0.8)\n",
    "modified_score = accelerate_measure(modified_score, 23, 1.0)\n",
    "modified_score = accelerate_measure(modified_score, 24, 1.0)\n",
    "modified_score = accelerate_measure(modified_score, 25, 1.2)\n",
    "modified_score = accelerate_measure(modified_score, 26, 1.0)\n",
    "modified_score = increase_volume_of_higher_notes_in_track(modified_score, 27, 30)\n",
    "\n",
    "from src.dynamics import randomize_velocity_in_measures\n",
    "from src.articulations import increase_volume_of_highest_note_in_triples, apply_pedal_to_measures, \\\n",
    "    increase_volume_of_higher_notes_in_track, accentuate_highest_note_in_measure\n",
    "\n",
    "# 33-34 40-41 high pitch with higher intensity\n",
    "my_stream = accentuate_highest_note_in_measure(my_stream,37,1.2)\n",
    "my_stream = increase_volume_of_highest_note_in_triples(my_stream,40,41)\n",
    "my_stream = increase_volume_of_higher_notes_in_track(my_stream, 45, 46)\n",
    "\n",
    "# randomly adjust the velocity\n",
    "my_stream = randomize_velocity_in_measures(my_stream, 31, 46, 2)\n",
    "\n",
    "# pedals\n",
    "my_stream = apply_pedal_to_measures(my_stream, 1, 68)\n",
    "\n",
    "from src.articulations import apply_trill_to_hand_note\n",
    "\n",
    "# add trills\n",
    "my_stream = apply_trill_to_hand_note(my_stream, 'right', measure_number=43, note_index=-2, \n",
    "                         semitones=1, trill_speed=1/4, trill_duration=1)\n",
    "my_stream = apply_trill_to_hand_note(my_stream, 'right', measure_number=43, note_index=-1, \n",
    "                         semitones=1, trill_speed=1/8, trill_duration=0.5)\n",
    "my_stream = apply_trill_to_hand_note(my_stream, 'right', measure_number=44, note_index=0, \n",
    "                         semitones=2, trill_speed=1/4, trill_duration=1)\n",
    "my_stream = apply_trill_to_hand_note(my_stream, 'right', measure_number=44, note_index=12, \n",
    "                         semitones=2, trill_speed=1/4, trill_duration=1)\n",
    "\n",
    "# Change Loudness \n",
    "from src.dynamics import change_dynamics_for_whole_piece\n",
    "\n",
    "my_stream = change_dynamics_for_whole_piece(my_stream)\n",
    "\n",
    "# Save the modified score\n",
    "from src.utils import save_midi\n",
    "save_midi(my_stream, 'final_output.mid')"
   ]
  },
  {
   "cell_type": "markdown",
   "id": "e3f7a5259e3aaf60",
   "metadata": {
    "collapsed": false
   },
   "source": [
    "## Task C\n",
    "\n",
    "Compare your generated MIDI with both the unperformed MIDI and the human performace recording. Discuss their differences and potentially what and how you can further improve. This should be part of your discussion section in the report."
   ]
  },
  {
   "cell_type": "code",
   "execution_count": null,
   "id": "6a309bc44a355908",
   "metadata": {
    "collapsed": false,
    "ExecuteTime": {
     "start_time": "2024-04-24T01:22:07.801490Z"
    }
   },
   "outputs": [],
   "source": [
    "# TODO visualizations of differences ?"
   ]
  }
 ],
 "metadata": {
  "kernelspec": {
   "display_name": "Python 3",
   "language": "python",
   "name": "python3"
  },
  "language_info": {
   "codemirror_mode": {
    "name": "ipython",
    "version": 3
   },
   "file_extension": ".py",
   "mimetype": "text/x-python",
   "name": "python",
   "nbconvert_exporter": "python",
   "pygments_lexer": "ipython3",
   "version": "3.10.4"
  }
 },
 "nbformat": 4,
 "nbformat_minor": 5
}
