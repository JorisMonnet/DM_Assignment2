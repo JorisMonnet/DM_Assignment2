{
 "cells": [
  {
   "cell_type": "markdown",
   "source": [
    "# Assignment 1\n",
    "## Digital Musicology\n",
    "\n",
    "@authors: Joris Monnet, Xingyu Pan, Yutaka Osaki, Yiwei Liu\n",
    "\n",
    "Due Date: 24/04/2024\n"
   ],
   "metadata": {
    "collapsed": false
   },
   "id": "20a9ea26d35a9774"
  },
  {
   "cell_type": "code",
   "execution_count": null,
   "id": "initial_id",
   "metadata": {
    "collapsed": true
   },
   "outputs": [],
   "source": [
    "import music21"
   ]
  },
  {
   "cell_type": "markdown",
   "source": [
    "## Task A\n",
    "\n",
    "TODO: open and listen a midi file"
   ],
   "metadata": {
    "collapsed": false
   },
   "id": "368090328cc6a032"
  },
  {
   "cell_type": "code",
   "outputs": [],
   "source": [],
   "metadata": {
    "collapsed": false
   },
   "id": "41f7df810eaa0797"
  },
  {
   "cell_type": "markdown",
   "source": [
    "# Task B\n",
    "\n",
    "From your analysis in task A, think about how to model these aspects computationally. In this task, choose one or more aspect(s) in your analysis you would like to model.\n",
    "\n",
    "You should write an algorithm that outputs a MIDI file from an musicXML or the unperformed MIDI. In your report, please clearly describe your model."
   ],
   "metadata": {
    "collapsed": false
   },
   "id": "d0c4d7988caba951"
  },
  {
   "cell_type": "code",
   "outputs": [],
   "source": [
    "# TODO coding part"
   ],
   "metadata": {
    "collapsed": false
   },
   "id": "83f105e7d0c19cf4"
  },
  {
   "cell_type": "markdown",
   "source": [
    "## Task C\n",
    "\n",
    "Compare your generated MIDI with both the unperformed MIDI and the human performace recording. Discuss their differences and potentially what and how you can further improve. This should be part of your discussion section in the report."
   ],
   "metadata": {
    "collapsed": false
   },
   "id": "e3f7a5259e3aaf60"
  },
  {
   "cell_type": "code",
   "outputs": [],
   "source": [
    "# TODO visualizations of differences ?"
   ],
   "metadata": {
    "collapsed": false
   },
   "id": "6a309bc44a355908"
  }
 ],
 "metadata": {
  "kernelspec": {
   "display_name": "Python 3",
   "language": "python",
   "name": "python3"
  },
  "language_info": {
   "codemirror_mode": {
    "name": "ipython",
    "version": 2
   },
   "file_extension": ".py",
   "mimetype": "text/x-python",
   "name": "python",
   "nbconvert_exporter": "python",
   "pygments_lexer": "ipython2",
   "version": "2.7.6"
  }
 },
 "nbformat": 4,
 "nbformat_minor": 5
}
