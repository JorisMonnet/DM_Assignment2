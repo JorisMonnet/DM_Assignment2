{
 "cells": [
  {
   "cell_type": "markdown",
   "id": "20a9ea26d35a9774",
   "metadata": {
    "collapsed": false
   },
   "source": [
    "# Assignment 1\n",
    "## Digital Musicology\n",
    "\n",
    "@authors: Joris Monnet, Xingyu Pan, Yutaka Osaki, Yiwei Liu\n",
    "\n",
    "Due Date: 24/04/2024\n"
   ]
  },
  {
   "cell_type": "markdown",
   "id": "d0c4d7988caba951",
   "metadata": {
    "collapsed": false
   },
   "source": [
    "# Task B\n",
    "\n",
    "From your analysis in task A, think about how to model these aspects computationally. In this task, choose one or more aspect(s) in your analysis you would like to model.\n",
    "\n",
    "You should write an algorithm that outputs a MIDI file from an musicXML or the unperformed MIDI. In your report, please clearly describe your model."
   ]
  },
  {
   "cell_type": "code",
   "execution_count": 2,
   "id": "6f0292ab",
   "metadata": {
    "ExecuteTime": {
     "end_time": "2024-04-24T01:03:51.684131Z",
     "start_time": "2024-04-24T01:03:50.693634Z"
    }
   },
   "outputs": [],
   "source": [
    "from src.utils import get_stream\n",
    "\n",
    "midi_file_path = './Berceuse_op_57/corrected_midi_score.mid'\n",
    "my_stream = get_stream(midi_file_path)"
   ]
  },
  {
   "cell_type": "markdown",
   "id": "957fa110",
   "metadata": {},
   "source": [
    "### Execute all function"
   ]
  },
  {
   "cell_type": "code",
   "execution_count": 3,
   "id": "81cb2ed5",
   "metadata": {
    "ExecuteTime": {
     "end_time": "2024-04-24T01:03:55.327239Z",
     "start_time": "2024-04-24T01:03:51.686661Z"
    }
   },
   "outputs": [
    {
     "name": "stdout",
     "output_type": "stream",
     "text": [
      "Measure 1 adjusted.\n",
      "Measure 2 adjusted.\n",
      "Measure 3 adjusted.\n",
      "Measure 4 adjusted.\n",
      "Measure 5 adjusted.\n",
      "Measure 6 adjusted.\n",
      "Measure 7 adjusted.\n",
      "Measure 8 adjusted.\n",
      "Measure 9 adjusted.\n",
      "Measure 10 adjusted.\n",
      "Measure 11 adjusted.\n",
      "Measure 12 adjusted.\n",
      "Measure 13 adjusted.\n",
      "Measure 14 adjusted.\n",
      "Measure 15 adjusted.\n",
      "Measure 16 adjusted.\n",
      "Measure 17 adjusted.\n",
      "Measure 18 adjusted.\n",
      "Measure 27 adjusted.\n",
      "Measure 28 adjusted.\n",
      "Measure 29 adjusted.\n",
      "Measure 30 adjusted.\n",
      "Measure 40 adjusted.\n",
      "Measure 41 adjusted.\n",
      "Measure 45 adjusted.\n",
      "Measure 46 adjusted.\n"
     ]
    }
   ],
   "source": [
    "from src.articulations import increase_volume_of_higher_notes_in_track\n",
    "from src.timings import execute_adjust_durations_for_specific_measure, execute_change_duration_in_measure, \\\n",
    "    accelerate_measure\n",
    "\n",
    "# Convert MIDI file to a music21 stream\n",
    "modified_score = execute_adjust_durations_for_specific_measure(my_stream, 1, 14)\n",
    "modified_score = execute_change_duration_in_measure(modified_score, 15, 18)\n",
    "modified_score = accelerate_measure(modified_score, 19, 1.2)\n",
    "modified_score = accelerate_measure(modified_score, 20, 0.9)\n",
    "modified_score = accelerate_measure(modified_score, 21, 1.2)\n",
    "modified_score = accelerate_measure(modified_score, 22, 0.8)\n",
    "modified_score = accelerate_measure(modified_score, 23, 1.0)\n",
    "modified_score = accelerate_measure(modified_score, 24, 1.0)\n",
    "modified_score = accelerate_measure(modified_score, 25, 1.2)\n",
    "modified_score = accelerate_measure(modified_score, 26, 1.0)\n",
    "modified_score = increase_volume_of_higher_notes_in_track(modified_score, 27, 30)\n",
    "\n",
    "from src.dynamics import randomize_velocity_in_measures\n",
    "from src.articulations import increase_volume_of_highest_note_in_triples, apply_pedal_to_measures, \\\n",
    "    increase_volume_of_higher_notes_in_track, accentuate_highest_note_in_measure\n",
    "from src.timings import change_duration_specific_beats_in_stream\n",
    "\n",
    "# adjust the duration of the notes on some beats\n",
    "my_stream = change_duration_specific_beats_in_stream(modified_score, start_measure=43, end_measure=43, target_beats=[5,7], duration_factor=1.5)\n",
    "my_stream = change_duration_specific_beats_in_stream(my_stream, start_measure=42, end_measure=42, target_beats=[6,7], duration_factor=1.2)\n",
    "\n",
    "\n",
    "# 33-34 40-41 high pitch with higher intensity\n",
    "my_stream = accentuate_highest_note_in_measure(my_stream,37,1.2)\n",
    "my_stream = increase_volume_of_highest_note_in_triples(my_stream,40,41)\n",
    "my_stream = increase_volume_of_higher_notes_in_track(my_stream, 45, 46)\n",
    "\n",
    "# randomly adjust the velocity\n",
    "my_stream = randomize_velocity_in_measures(my_stream, 31, 46, 2)\n",
    "\n",
    "# paddles\n",
    "my_stream = apply_pedal_to_measures(my_stream, 1, 70)\n",
    "\n",
    "from src.articulations import apply_trill_to_hand_note\n",
    "\n",
    "# add trills\n",
    "# apply\n",
    "my_stream = apply_trill_to_hand_note(my_stream, 'right', measure_number=43, note_index=-2, \n",
    "                         semitones=1, trill_speed=1/4, trill_duration=1)\n",
    "my_stream = apply_trill_to_hand_note(my_stream, 'right', measure_number=43, note_index=-1, \n",
    "                         semitones=1, trill_speed=1/8, trill_duration=0.5)\n",
    "my_stream = apply_trill_to_hand_note(my_stream, 'right', measure_number=44, note_index=0, \n",
    "                         semitones=2, trill_speed=1/4, trill_duration=1)\n",
    "my_stream = apply_trill_to_hand_note(my_stream, 'right', measure_number=43, note_index=12, \n",
    "                         semitones=2, trill_speed=1/4, trill_duration=1)\n",
    "\n",
    "# Change Loudness \n",
    "from src.dynamics import change_dynamics_for_whole_piece\n",
    "\n",
    "my_stream = change_dynamics_for_whole_piece(my_stream)\n",
    "\n",
    "# Save the modified score\n",
    "from src.utils import save_midi\n",
    "save_midi(my_stream, 'final_output.mid')"
   ]
  },
  {
   "cell_type": "markdown",
   "id": "e3f7a5259e3aaf60",
   "metadata": {
    "collapsed": false
   },
   "source": [
    "## Task C\n",
    "\n",
    "Compare your generated MIDI with both the unperformed MIDI and the human performace recording. Discuss their differences and potentially what and how you can further improve. This should be part of your discussion section in the report."
   ]
  },
  {
   "cell_type": "code",
   "execution_count": 4,
   "id": "6a309bc44a355908",
   "metadata": {
    "collapsed": false,
    "ExecuteTime": {
     "end_time": "2024-04-24T01:03:55.335922Z",
     "start_time": "2024-04-24T01:03:55.329682Z"
    }
   },
   "outputs": [],
   "source": [
    "# TODO visualizations of differences ?"
   ]
  }
 ],
 "metadata": {
  "kernelspec": {
   "display_name": "Python 3",
   "language": "python",
   "name": "python3"
  },
  "language_info": {
   "codemirror_mode": {
    "name": "ipython",
    "version": 3
   },
   "file_extension": ".py",
   "mimetype": "text/x-python",
   "name": "python",
   "nbconvert_exporter": "python",
   "pygments_lexer": "ipython3",
   "version": "3.10.4"
  }
 },
 "nbformat": 4,
 "nbformat_minor": 5
}
