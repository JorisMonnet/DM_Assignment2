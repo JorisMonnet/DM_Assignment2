{
 "cells": [
  {
   "cell_type": "markdown",
   "metadata": {},
   "source": [
    "# Assignment 1\n",
    "## Digital Musicology\n",
    "\n",
    "@authors: Joris Monnet, Xingyu Pan, Yutaka Osaki, Yiwei Liu\n",
    "\n",
    "Due Date: 24/04/2024"
   ]
  },
  {
   "cell_type": "code",
   "execution_count": 1,
   "metadata": {
    "ExecuteTime": {
     "end_time": "2024-04-23T20:43:03.307129Z",
     "start_time": "2024-04-23T20:43:03.302444Z"
    }
   },
   "outputs": [],
   "source": [
    "import music21\n",
    "from music21 import midi, note, stream , interval, duration , converter"
   ]
  },
  {
   "cell_type": "markdown",
   "metadata": {},
   "source": [
    "### Duration of notes\n",
    "#### 1. Modify the note timing of a specific beat within a specific measure(s) of a music stream(s)."
   ]
  },
  {
   "cell_type": "markdown",
   "metadata": {},
   "source": [
    "#### 2. Adjusts the note duration of one track within a given measure, and automatically adjusts the note duration of the other track to ensure that the total duration of the two tracks remains the same."
   ]
  },
  {
   "cell_type": "markdown",
   "metadata": {},
   "source": [
    "#### 2. Detailed finding: Specify the note with the highest pitch in the measure and increase its intensity."
   ]
  },
  {
   "cell_type": "markdown",
   "metadata": {},
   "source": [
    "#### 2. Detailed finding: Increases the volume of the highest-pitched note in triples of thirty-second notes within specified measures."
   ]
  },
  {
   "cell_type": "markdown",
   "metadata": {},
   "source": [
    "#### 3.  Increases the volume of the higher-pitched note in pairs of sixteenth notes within specified measures"
   ]
  },
  {
   "cell_type": "markdown",
   "metadata": {},
   "source": [
    "### Dynamics\n",
    "#### 1. Modify the velocity（adjust the note's velocity one by one）"
   ]
  },
  {
   "cell_type": "markdown",
   "metadata": {},
   "source": [
    "#### 2. Modify the velocity randomly to imitate the performed one"
   ]
  },
  {
   "cell_type": "code",
   "execution_count": 8,
   "metadata": {
    "ExecuteTime": {
     "end_time": "2024-04-23T20:43:03.418618Z",
     "start_time": "2024-04-23T20:43:03.411448Z"
    }
   },
   "outputs": [],
   "source": [
    "import random\n",
    "\n",
    "\n"
   ]
  },
  {
   "cell_type": "markdown",
   "metadata": {},
   "source": [
    "#### 3. Add the imitation of the pedals"
   ]
  },
  {
   "cell_type": "markdown",
   "metadata": {},
   "source": [
    "#### 4. Imitate the trills"
   ]
  },
  {
   "cell_type": "markdown",
   "metadata": {},
   "source": [
    "### Other functions \n",
    "#### 1. extract measures that is needed."
   ]
  },
  {
   "cell_type": "code",
   "execution_count": 12,
   "metadata": {
    "ExecuteTime": {
     "end_time": "2024-04-23T21:07:19.824782Z",
     "start_time": "2024-04-23T21:07:19.190066Z"
    }
   },
   "outputs": [],
   "source": [
    "# apply\n",
    "mf = midi.MidiFile()\n",
    "mf.open('corrected_midi_score.midi')\n",
    "mf.read()\n",
    "mf.close()\n",
    "\n",
    "my_stream = converter.parse('corrected_midi_score.midi', format='midi', forceSource=True,\n",
    "                            quantizePost=False, quarterLengthDivisors=(128, 48))"
   ]
  },
  {
   "cell_type": "code",
   "execution_count": 13,
   "metadata": {
    "ExecuteTime": {
     "end_time": "2024-04-23T20:43:04.237726Z",
     "start_time": "2024-04-23T20:43:04.133226Z"
    }
   },
   "outputs": [
    {
     "name": "stdout",
     "output_type": "stream",
     "text": [
      "Measure 40 adjusted.\n",
      "Measure 41 adjusted.\n",
      "Measure 45 adjusted.\n",
      "Measure 46 adjusted.\n"
     ]
    }
   ],
   "source": [
    "from src.dynamics import randomize_velocity_in_measures\n",
    "from src.articulations import increase_volume_of_highest_note_in_triples, apply_pedal_to_measures, \\\n",
    "    increase_volume_of_higher_notes_in_track, accentuate_highest_note_in_measure\n",
    "from src.timings import change_duration_specific_beats_in_stream\n",
    "\n",
    "# adjust the duration of the notes on some beats\n",
    "my_stream = change_duration_specific_beats_in_stream(my_stream, start_measure=43, end_measure=43, target_beats=[5,7], duration_factor=1.5)\n",
    "my_stream = change_duration_specific_beats_in_stream(my_stream, start_measure=42, end_measure=42, target_beats=[6,7], duration_factor=1.2)\n",
    "\n",
    "\n",
    "# 33-34 40-41 high pitch with higher intensity\n",
    "my_stream = accentuate_highest_note_in_measure(my_stream,37,1.2)\n",
    "my_stream = increase_volume_of_highest_note_in_triples(my_stream,40,41)\n",
    "my_stream = increase_volume_of_higher_notes_in_track(my_stream, 45, 46)\n",
    "\n",
    "# randomly adjust the velocity\n",
    "my_stream = randomize_velocity_in_measures(my_stream, 31, 46, 2)\n",
    "\n",
    "# paddles\n",
    "my_stream = apply_pedal_to_measures(my_stream, 1, 70)"
   ]
  },
  {
   "cell_type": "code",
   "execution_count": 14,
   "metadata": {
    "ExecuteTime": {
     "end_time": "2024-04-23T21:07:23.644423Z",
     "start_time": "2024-04-23T21:07:23.629944Z"
    }
   },
   "outputs": [],
   "source": [
    "from src.articulations import apply_trill_to_hand_note\n",
    "\n",
    "# add trills\n",
    "# apply\n",
    "my_stream = apply_trill_to_hand_note(my_stream, 'right', measure_number=43, note_index=-2, \n",
    "                         semitones=1, trill_speed=1/4, trill_duration=1)\n",
    "my_stream = apply_trill_to_hand_note(my_stream, 'right', measure_number=43, note_index=-1, \n",
    "                         semitones=1, trill_speed=1/8, trill_duration=0.5)\n",
    "my_stream = apply_trill_to_hand_note(my_stream, 'right', measure_number=44, note_index=0, \n",
    "                         semitones=2, trill_speed=1/4, trill_duration=1)\n",
    "my_stream = apply_trill_to_hand_note(my_stream, 'right', measure_number=43, note_index=12, \n",
    "                         semitones=2, trill_speed=1/4, trill_duration=1)"
   ]
  },
  {
   "cell_type": "code",
   "execution_count": 15,
   "metadata": {},
   "outputs": [],
   "source": [
    "# 创建一个新的 MIDI 文件并写入更改\n",
    "my_stream.makeNotation() \n",
    "mf_out = midi.translate.music21ObjectToMidiFile(my_stream)\n",
    "mf_out.open('whole_modified_midi_score.midi', 'wb')\n",
    "mf_out.write()\n",
    "mf_out.close()"
   ]
  },
  {
   "cell_type": "code",
   "execution_count": 16,
   "metadata": {
    "ExecuteTime": {
     "end_time": "2024-04-23T20:43:06.510372Z",
     "start_time": "2024-04-23T20:43:06.505376Z"
    }
   },
   "outputs": [],
   "source": [
    "from src.utils import extract_measures_and_save\n",
    "\n",
    "output_midi_path = 'modified_midi_score.midi'\n",
    "start_measure = 31\n",
    "end_measure = 46\n",
    "extract_measures_and_save(my_stream, output_midi_path, start_measure, end_measure)"
   ]
  },
  {
   "cell_type": "code",
   "execution_count": null,
   "metadata": {},
   "outputs": [],
   "source": []
  }
 ],
 "metadata": {
  "kernelspec": {
   "display_name": "Python 3",
   "language": "python",
   "name": "python3"
  },
  "language_info": {
   "codemirror_mode": {
    "name": "ipython",
    "version": 3
   },
   "file_extension": ".py",
   "mimetype": "text/x-python",
   "name": "python",
   "nbconvert_exporter": "python",
   "pygments_lexer": "ipython3",
   "version": "3.8.5"
  }
 },
 "nbformat": 4,
 "nbformat_minor": 4
}
