{
 "cells": [
  {
   "cell_type": "markdown",
   "metadata": {},
   "source": [
    "# Assignment 1\n",
    "## Digital Musicology\n",
    "\n",
    "@authors: Joris Monnet, Xingyu Pan, Yutaka Osaki, Yiwei Liu\n",
    "\n",
    "Due Date: 24/04/2024"
   ]
  },
  {
   "cell_type": "code",
   "execution_count": 1,
   "metadata": {
    "ExecuteTime": {
     "end_time": "2024-04-23T20:43:03.307129Z",
     "start_time": "2024-04-23T20:43:03.302444Z"
    }
   },
   "outputs": [],
   "source": [
    "import music21\n",
    "from music21 import midi, note, stream , interval, duration , converter"
   ]
  },
  {
   "cell_type": "markdown",
   "metadata": {},
   "source": [
    "### Duration of notes\n",
    "#### 1. Modify the note timing of a specific beat within a specific measure(s) of a music stream(s)."
   ]
  },
  {
   "cell_type": "code",
   "execution_count": 2,
   "metadata": {
    "ExecuteTime": {
     "end_time": "2024-04-23T20:43:03.359360Z",
     "start_time": "2024-04-23T20:43:03.354588Z"
    }
   },
   "outputs": [],
   "source": [
    "# chage duration of the beats\n",
    "def change_duration_specific_beats_in_stream(s, start_measure, end_measure, target_beats, duration_factor):\n",
    "    # target_beats should be a list of beats where duration needs to be changed, e.g., [1, 3]\n",
    "    for measure_number in range(start_measure, end_measure + 1):\n",
    "        measure = s.measure(measure_number)\n",
    "        if measure is not None:\n",
    "            for n in measure.notes:  # Iterating over notes directly\n",
    "                if n.beat in target_beats:  # Check if the note's beat is in the list of target beats\n",
    "                    n.duration.quarterLength *= duration_factor\n",
    "    return s"
   ]
  },
  {
   "cell_type": "markdown",
   "metadata": {},
   "source": [
    "#### 2. Adjusts the note duration of one track within a given measure, and automatically adjusts the note duration of the other track to ensure that the total duration of the two tracks remains the same."
   ]
  },
  {
   "cell_type": "markdown",
   "metadata": {},
   "source": [
    "### Pitches of notes \n",
    "#### 1. Extract the specific notes and adjust their pitches"
   ]
  },
  {
   "cell_type": "code",
   "execution_count": 3,
   "metadata": {
    "ExecuteTime": {
     "end_time": "2024-04-23T20:43:03.376490Z",
     "start_time": "2024-04-23T20:43:03.370622Z"
    }
   },
   "outputs": [],
   "source": [
    "# extract the notes and adjust their pitches\n",
    "def adjust_note_in_measures(s, start_measure, end_measure, note_index, pitch_interval):\n",
    "    \"\"\"\n",
    "    Adjusts the pitch of a specific note in a given range of measures.\n",
    "\n",
    "    Parameters:\n",
    "        s (music21.stream.Stream): The music stream to modify.\n",
    "        start_measure (int): The starting measure number.\n",
    "        end_measure (int): The ending measure number.\n",
    "        note_index (int): The index of the note in its measure to adjust (0-based index).\n",
    "        pitch_interval (int): The number of semitones to transpose the note (positive or negative).\n",
    "\n",
    "    Returns:\n",
    "        music21.stream.Stream: The modified music stream.\n",
    "    \"\"\"\n",
    "    for measure_number in range(start_measure, end_measure + 1):\n",
    "        measure = s.measure(measure_number)  # Get the specific measure\n",
    "        if measure:\n",
    "            notes = [n for n in measure.notes]  # Get all notes in the measure\n",
    "            if len(notes) > note_index:  # Check if the note index is within the range of available notes\n",
    "                target_note = notes[note_index]\n",
    "                target_note.transpose(interval.ChromaticInterval(pitch_interval), inPlace=True)\n",
    "    return s"
   ]
  },
  {
   "cell_type": "markdown",
   "metadata": {},
   "source": [
    "#### 2. Detailed finding: Specify the note with the highest pitch in the measure and increase its intensity."
   ]
  },
  {
   "cell_type": "code",
   "execution_count": 4,
   "metadata": {},
   "outputs": [],
   "source": [
    "def accentuate_highest_note_in_measure(s, measure_number, accent_factor):\n",
    "    \"\"\"\n",
    "    Increases the velocity of all notes with the highest pitch in the specified measure.\n",
    "\n",
    "    :param s: music21 stream object\n",
    "    :param measure_number: the measure number to find and accentuate the highest notes\n",
    "    :param accent_factor: the factor by which to increase the velocity (e.g., 1.2 for 20% increase)\n",
    "    :return: modified music21 stream\n",
    "    \"\"\"\n",
    "    measure = s.measure(measure_number)\n",
    "    if measure is None:\n",
    "        print(f\"No measure found with the number {measure_number}.\")\n",
    "        return s\n",
    "\n",
    "    highest_pitch = None\n",
    "    notes_to_accentuate = []\n",
    "\n",
    "    # Ensure to only handle note and chord objects\n",
    "    for element in measure.recurse().notesAndRests:\n",
    "        if hasattr(element, 'isNote') and element.isNote:\n",
    "            if highest_pitch is None or element.pitch.midi > highest_pitch:\n",
    "                highest_pitch = element.pitch.midi\n",
    "                notes_to_accentuate = [element]\n",
    "            elif element.pitch.midi == highest_pitch:\n",
    "                notes_to_accentuate.append(element)\n",
    "        elif hasattr(element, 'isChord') and element.isChord:\n",
    "            for p in element.pitches:\n",
    "                if highest_pitch is None or p.midi > highest_pitch:\n",
    "                    highest_pitch = p.midi\n",
    "                    notes_to_accentuate = [element]\n",
    "                elif p.midi == highest_pitch:\n",
    "                    notes_to_accentuate.append(element)\n",
    "\n",
    "    # Increase the velocity of all notes/chords with the highest pitch\n",
    "    for n in notes_to_accentuate:\n",
    "        if hasattr(n, 'isNote') and n.isNote:\n",
    "            n.volume.velocity = min(max(int(n.volume.velocity * accent_factor), 0), 127)\n",
    "        elif hasattr(n, 'isChord') and n.isChord:\n",
    "            for note in n.notes:\n",
    "                note.volume.velocity = min(max(int(note.volume.velocity * accent_factor), 0), 127)\n",
    "\n",
    "    return s"
   ]
  },
  {
   "cell_type": "markdown",
   "metadata": {},
   "source": [
    "#### 2. Detailed finding: Increases the volume of the highest-pitched note in triples of thirty-second notes within specified measures."
   ]
  },
  {
   "cell_type": "code",
   "execution_count": 5,
   "metadata": {
    "ExecuteTime": {
     "end_time": "2024-04-23T20:43:03.394121Z",
     "start_time": "2024-04-23T20:43:03.384991Z"
    }
   },
   "outputs": [],
   "source": [
    "def increase_volume_of_highest_note_in_triples(score, start_measure_number, end_measure_number, track_number=0, volume_increase=10):\n",
    "    \"\"\"\n",
    "    Increases the volume of the highest-pitched note in triples of thirty-second notes within specified measures\n",
    "    in a specific track of a score.\n",
    "    \n",
    "    Params:\n",
    "        score (music21.stream.Score): The Score object to be processed.\n",
    "        track_number (int): The track number to process (0-indexed).\n",
    "        start_measure_number (int): The measure number to start processing (inclusive).\n",
    "        end_measure_number (int): The measure number to end processing (inclusive).\n",
    "        volume_increase (int): The amount by which to increase the volume of the highest-pitched note.\n",
    "    \n",
    "    Returns:\n",
    "        music21.stream.Score: The modified Score object with increased volumes for the highest-pitched notes in the specified measures of the specified track.\n",
    "    \"\"\"\n",
    "    \n",
    "    target_part = score.parts[track_number]\n",
    "    \n",
    "    for i in range(start_measure_number, end_measure_number + 1):\n",
    "        target_measure = target_part.measure(i)\n",
    "        notes = target_measure.notes\n",
    "        # Iterate through each triple group of notes in the measure\n",
    "        for j in range(len(notes) - 2):\n",
    "            note1, note2, note3 = notes[j], notes[j+1], notes[j+2]\n",
    "            if note1.duration.quarterLength == 0.125 and note2.duration.quarterLength == 0.125 and note3.duration.quarterLength == 0.125:\n",
    "                # Determine the highest note\n",
    "                pitches = [note1.pitch.midi, note2.pitch.midi, note3.pitch.midi]\n",
    "                max_pitch = max(pitches)\n",
    "                highest_note = None\n",
    "                if note1.pitch.midi == max_pitch:\n",
    "                    highest_note = note1\n",
    "                elif note2.pitch.midi == max_pitch:\n",
    "                    highest_note = note2\n",
    "                else:\n",
    "                    highest_note = note3\n",
    "                \n",
    "                # Increase the volume of the highest note\n",
    "                highest_note.volume.velocity = min(highest_note.volume.velocity + volume_increase, 127)\n",
    "            \n",
    "        print(f\"Measure {i} adjusted.\")\n",
    "\n",
    "    return score"
   ]
  },
  {
   "cell_type": "markdown",
   "metadata": {},
   "source": [
    "#### 3.  Increases the volume of the higher-pitched note in pairs of sixteenth notes within specified measures"
   ]
  },
  {
   "cell_type": "code",
   "execution_count": 6,
   "metadata": {},
   "outputs": [],
   "source": [
    "def increase_volume_of_higher_notes_in_track(score, start_measure_number, end_measure_number, track_number=0, volume_increase=10):\n",
    "    \"\"\"\n",
    "    Increases the volume of the higher-pitched note in pairs of sixteenth notes within specified measures in a specific track of a score.\n",
    "    \n",
    "    Params:\n",
    "        score (music21.stream.Score): The Score object to be processed.\n",
    "        track_number (int): The track number to process (1-indexed).\n",
    "        start_measure_number (int): The measure number to start processing (inclusive).\n",
    "        end_measure_number (int): The measure number to end processing (inclusive).\n",
    "        volume_increase (int): The amount by which to increase the volume of the higher-pitched note.\n",
    "\n",
    "    Returns:\n",
    "        music21.stream.Score: The modified Score object with increased volumes for higher-pitched notes in the specified measures of the specified track.\n",
    "    \"\"\"\n",
    "    \n",
    "    target_part = score.parts[track_number]\n",
    "    \n",
    "    for i in range(start_measure_number, end_measure_number + 1):\n",
    "        target_measure = target_part.measure(i)\n",
    "        for note1, note2 in zip(target_measure.notes[:-1], target_measure.notes[1:]):\n",
    "            if note1.duration.quarterLength == 0.25 and note2.duration.quarterLength == 0.25:\n",
    "                # Extract pitches; handle both Note and Chord objects\n",
    "                pitch1 = note1.pitches[-1] if isinstance(note1, music21.chord.Chord) else note1.pitch\n",
    "                pitch2 = note2.pitches[-1] if isinstance(note2, music21.chord.Chord) else note2.pitch\n",
    "\n",
    "                # Increase volume of the higher-pitched note\n",
    "                if pitch1 > pitch2:\n",
    "                    note1.volume.velocity += volume_increase\n",
    "                else:\n",
    "                    note2.volume.velocity += volume_increase\n",
    "            \n",
    "        print(f\"Measure {i} adjusted.\")\n",
    "\n",
    "    return score"
   ]
  },
  {
   "cell_type": "markdown",
   "metadata": {},
   "source": [
    "### Dynamics\n",
    "#### 1. Modify the velocity（adjust the note's velocity one by one）"
   ]
  },
  {
   "cell_type": "code",
   "execution_count": 7,
   "metadata": {
    "ExecuteTime": {
     "end_time": "2024-04-23T20:43:03.409124Z",
     "start_time": "2024-04-23T20:43:03.404650Z"
    }
   },
   "outputs": [],
   "source": [
    "def change_velocity_measures_in_stream(s, start_measure, end_measure, velocity_factor):\n",
    "    for measure_number in range(start_measure, end_measure + 1):\n",
    "        measure = s.measure(measure_number)  \n",
    "        if measure is not None:\n",
    "            # modify intensity\n",
    "            for n in measure.recurse().notes:\n",
    "                # Calculate the new tone intensity and make sure it is in the range of the MIDI standard (0-127)\n",
    "                n.volume.velocity = min(max(int(n.volume.velocity * velocity_factor), 0), 127)\n",
    "    return s"
   ]
  },
  {
   "cell_type": "markdown",
   "metadata": {},
   "source": [
    "#### 2. Modify the velocity randomly to imitate the performed one"
   ]
  },
  {
   "cell_type": "code",
   "execution_count": 8,
   "metadata": {
    "ExecuteTime": {
     "end_time": "2024-04-23T20:43:03.418618Z",
     "start_time": "2024-04-23T20:43:03.411448Z"
    }
   },
   "outputs": [],
   "source": [
    "def randomize_velocity_in_measures(s, start_measure, end_measure, delta_range):\n",
    "    \"\"\"\n",
    "    Randomly adjusts the velocity of each note within a specified range in a music stream,\n",
    "    limited to a specific range of measures.\n",
    "\n",
    "    Parameters:\n",
    "        s (music21.stream.Stream): The music stream to modify.\n",
    "        start_measure (int): The starting measure number.\n",
    "        end_measure (int): The ending measure number.\n",
    "        delta_range (int): The maximum change (up or down) that can be applied to the velocity.\n",
    "\n",
    "    Returns:\n",
    "        music21.stream.Stream: The modified music stream.\n",
    "    \"\"\"\n",
    "    for measure_number in range(start_measure, end_measure + 1):\n",
    "        measure = s.measure(measure_number)\n",
    "        if measure:\n",
    "            for n in measure.notes:  # Only adjust notes directly in the measure\n",
    "                if n.volume.velocity is not None:  # Check if velocity is defined\n",
    "                    change = random.randint(-delta_range, delta_range)  # Random change within the specified range\n",
    "                    new_velocity = max(0, min(127, n.volume.velocity + change))  # Apply the change and clamp the result\n",
    "                    n.volume.velocity = new_velocity  # Set the new velocity\n",
    "                else:\n",
    "                    n.volume.velocity = random.randint(64 - delta_range, 64 + delta_range)  # Default value if None\n",
    "    return s"
   ]
  },
  {
   "cell_type": "markdown",
   "metadata": {},
   "source": [
    "#### 3. Add the imitation of the pedals"
   ]
  },
  {
   "cell_type": "code",
   "execution_count": 9,
   "metadata": {
    "ExecuteTime": {
     "end_time": "2024-04-23T20:43:03.443103Z",
     "start_time": "2024-04-23T20:43:03.436348Z"
    }
   },
   "outputs": [],
   "source": [
    "def add_pedal_event(s, measure, beat, is_pedal_down, measure_offset):\n",
    "    \"\"\"\n",
    "    Adds a pedal event to the stream at a specified beat within a measure.\n",
    "    \n",
    "    Parameters:\n",
    "        s (music21.stream.Stream): The music stream to add the event to.\n",
    "        measure (music21.stream.Measure): The measure where the event is added.\n",
    "        beat (float): The beat within the measure to add the pedal event.\n",
    "        is_pedal_down (bool): True if the pedal is pressed, False if released.\n",
    "        measure_offset (float): The offset of the measure within the stream.\n",
    "    \"\"\"\n",
    "    pedal_event = midi.ControlChange()\n",
    "    pedal_event.channel = 1\n",
    "    pedal_event.control = 64  # Sustain pedal control number\n",
    "    pedal_event.value = 127 if is_pedal_down else 0\n",
    "    pedal_event.time = measure_offset + (beat - 1) * measure.quarterLength / measure.timeSignature.beatCount\n",
    "    \n",
    "    s.events.append(pedal_event)\n",
    "    return s\n",
    "\n",
    "def apply_pedal_to_measures(s, start_measure, end_measure):\n",
    "    \"\"\"\n",
    "    Applies the sustain pedal to specific measures in a 6/8 time signature stream.\n",
    "    Pedal is pressed at 1/8 and released at 3/8, then pressed again at 4/8 and released at 6/8.\n",
    "    \n",
    "    Parameters:\n",
    "        s (music21.stream.Stream): The music stream to modify.\n",
    "        start_measure (int): The starting measure number (1-indexed).\n",
    "        end_measure (int): The ending measure number (1-indexed).\n",
    "    \"\"\"\n",
    "    for m in s.getElementsByClass('Measure'):\n",
    "        if start_measure <= m.measureNumber <= end_measure:\n",
    "            measure_offset = m.offset\n",
    "            \n",
    "            add_pedal_event(s, m, 1, True, measure_offset)   # Pedal down at 1/8\n",
    "            add_pedal_event(s, m, 3, False, measure_offset)  # Pedal up at 3/8\n",
    "            add_pedal_event(s, m, 4, True, measure_offset)   # Pedal down at 4/8\n",
    "            add_pedal_event(s, m, 6, False, measure_offset)  # Pedal up at 6/8\n",
    "    return s"
   ]
  },
  {
   "cell_type": "markdown",
   "metadata": {},
   "source": [
    "#### 4. Imitate the trills"
   ]
  },
  {
   "cell_type": "code",
   "execution_count": 10,
   "metadata": {
    "ExecuteTime": {
     "end_time": "2024-04-23T21:07:18.061338Z",
     "start_time": "2024-04-23T21:07:18.049842Z"
    }
   },
   "outputs": [],
   "source": [
    "def apply_trill_to_hand_note(s, hand, measure_number, note_index, semitones, trill_speed, trill_duration):\n",
    "    \"\"\"\n",
    "    Applies a custom trill effect to a specific note within a specified measure and specific hand part \n",
    "    in a music21 stream.\n",
    "\n",
    "    Parameters:\n",
    "        s (music21.stream.Stream): The music stream containing the measures and parts.\n",
    "        hand (str): The hand part to apply the trill, 'left' or 'right'.\n",
    "        measure_number (int): The measure number to find the note to trill.\n",
    "        note_index (int): The index of the note within the specified measure to apply the trill.\n",
    "        semitones (int): The number of semitones to transpose the original note by for the trill effect.\n",
    "        trill_speed (float): The duration of each individual note in the trill, in quarter lengths.\n",
    "        trill_duration (float): The total duration of the trill effect, in quarter lengths.\n",
    "    \"\"\"\n",
    "    part = s.parts[0 if hand == 'right' else 1]\n",
    "    target_measure = part.measure(measure_number)\n",
    "    notes_in_measure = list(target_measure.flatten().notes)\n",
    "    if note_index < len(notes_in_measure):\n",
    "        trill_start_note = notes_in_measure[note_index]\n",
    "        start_offset = trill_start_note.offset\n",
    "        num_trills = int(trill_duration / trill_speed)\n",
    "        trill_interval = interval.ChromaticInterval(semitones)\n",
    "        trill_start_note.duration.quarterLength = trill_speed\n",
    "        for i in range(1,num_trills):\n",
    "            if i % 2 == 0:\n",
    "                new_note = note.Note(trill_start_note.pitch,\n",
    "                                     duration=duration.Duration(trill_speed))\n",
    "            else:\n",
    "                trill_pitch = trill_start_note.pitch.transpose(trill_interval)\n",
    "                new_note = note.Note(trill_pitch,\n",
    "                                     duration=duration.Duration(trill_speed))\n",
    "            target_measure.insert(start_offset + i * trill_speed, new_note)\n",
    "    return s"
   ]
  },
  {
   "cell_type": "markdown",
   "metadata": {},
   "source": [
    "### Other functions \n",
    "#### 1. extract measures that is needed."
   ]
  },
  {
   "cell_type": "code",
   "execution_count": 11,
   "metadata": {},
   "outputs": [],
   "source": [
    "def extract_measures_and_save(input_stream, output_midi_path, start_measure, end_measure):\n",
    "    \"\"\"\n",
    "    Extracts specified measures from a given music21 stream and saves them to a new MIDI file.\n",
    "\n",
    "    :param input_stream: music21 stream object that contains the music data.\n",
    "    :param output_midi_path: path where the new MIDI file will be saved.\n",
    "    :param start_measure: the first measure to include in the extraction.\n",
    "    :param end_measure: the last measure to include in the extraction.\n",
    "    \"\"\"\n",
    "    new_stream = stream.Score()\n",
    "\n",
    "    for part in input_stream.parts:\n",
    "        # Extracts a specified range of bars\n",
    "        extracted_measures = part.measures(start_measure, end_measure)\n",
    "        \n",
    "        new_part = stream.Part()\n",
    "        for measure in extracted_measures:\n",
    "            new_part.append(measure)\n",
    "        new_stream.append(new_part)\n",
    "\n",
    "    # save\n",
    "    new_stream.write('midi', fp=output_midi_path)"
   ]
  },
  {
   "cell_type": "code",
   "execution_count": 12,
   "metadata": {
    "ExecuteTime": {
     "end_time": "2024-04-23T21:07:19.824782Z",
     "start_time": "2024-04-23T21:07:19.190066Z"
    }
   },
   "outputs": [],
   "source": [
    "# apply\n",
    "mf = midi.MidiFile()\n",
    "mf.open('corrected_midi_score.midi')\n",
    "mf.read()\n",
    "mf.close()\n",
    "\n",
    "my_stream = converter.parse('corrected_midi_score.midi', format='midi', forceSource=True,\n",
    "                            quantizePost=False, quarterLengthDivisors=(128, 48))"
   ]
  },
  {
   "cell_type": "code",
   "execution_count": 13,
   "metadata": {
    "ExecuteTime": {
     "end_time": "2024-04-23T20:43:04.237726Z",
     "start_time": "2024-04-23T20:43:04.133226Z"
    }
   },
   "outputs": [
    {
     "name": "stdout",
     "output_type": "stream",
     "text": [
      "Measure 40 adjusted.\n",
      "Measure 41 adjusted.\n",
      "Measure 45 adjusted.\n",
      "Measure 46 adjusted.\n"
     ]
    }
   ],
   "source": [
    "# adjust the duration of the notes on some beats\n",
    "my_stream = change_duration_specific_beats_in_stream(my_stream, start_measure=43, end_measure=43, target_beats=[5,7], duration_factor=1.5)\n",
    "my_stream = change_duration_specific_beats_in_stream(my_stream, start_measure=42, end_measure=42, target_beats=[6,7], duration_factor=1.2)\n",
    "\n",
    "\n",
    "# 33-34 40-41 high pitch with higher intensity\n",
    "my_stream = accentuate_highest_note_in_measure(my_stream,37,1.2)\n",
    "my_stream = increase_volume_of_highest_note_in_triples(my_stream,40,41)\n",
    "my_stream = increase_volume_of_higher_notes_in_track(my_stream, 45, 46)\n",
    "\n",
    "# randomly adjust the velocity\n",
    "my_stream = randomize_velocity_in_measures(my_stream, 31, 46, 2)\n",
    "\n",
    "# paddles\n",
    "my_stream = apply_pedal_to_measures(my_stream, 1, 70)"
   ]
  },
  {
   "cell_type": "code",
   "execution_count": 14,
   "metadata": {
    "ExecuteTime": {
     "end_time": "2024-04-23T21:07:23.644423Z",
     "start_time": "2024-04-23T21:07:23.629944Z"
    }
   },
   "outputs": [],
   "source": [
    "# add trills\n",
    "# apply\n",
    "my_stream = apply_trill_to_hand_note(my_stream, 'right', measure_number=43, note_index=-2, \n",
    "                         semitones=1, trill_speed=1/4, trill_duration=1)\n",
    "my_stream = apply_trill_to_hand_note(my_stream, 'right', measure_number=43, note_index=-1, \n",
    "                         semitones=1, trill_speed=1/8, trill_duration=0.5)\n",
    "my_stream = apply_trill_to_hand_note(my_stream, 'right', measure_number=44, note_index=0, \n",
    "                         semitones=2, trill_speed=1/4, trill_duration=1)\n",
    "my_stream = apply_trill_to_hand_note(my_stream, 'right', measure_number=43, note_index=12, \n",
    "                         semitones=2, trill_speed=1/4, trill_duration=1)"
   ]
  },
  {
   "cell_type": "code",
   "execution_count": 15,
   "metadata": {},
   "outputs": [],
   "source": [
    "# 创建一个新的 MIDI 文件并写入更改\n",
    "my_stream.makeNotation() \n",
    "mf_out = midi.translate.music21ObjectToMidiFile(my_stream)\n",
    "mf_out.open('whole_modified_midi_score.midi', 'wb')\n",
    "mf_out.write()\n",
    "mf_out.close()"
   ]
  },
  {
   "cell_type": "code",
   "execution_count": 16,
   "metadata": {
    "ExecuteTime": {
     "end_time": "2024-04-23T20:43:06.510372Z",
     "start_time": "2024-04-23T20:43:06.505376Z"
    }
   },
   "outputs": [],
   "source": [
    "output_midi_path = 'modified_midi_score.midi'\n",
    "start_measure = 31\n",
    "end_measure = 46\n",
    "extract_measures_and_save(my_stream, output_midi_path, start_measure, end_measure)"
   ]
  },
  {
   "cell_type": "code",
   "execution_count": null,
   "metadata": {},
   "outputs": [],
   "source": []
  }
 ],
 "metadata": {
  "kernelspec": {
   "display_name": "Python 3",
   "language": "python",
   "name": "python3"
  },
  "language_info": {
   "codemirror_mode": {
    "name": "ipython",
    "version": 3
   },
   "file_extension": ".py",
   "mimetype": "text/x-python",
   "name": "python",
   "nbconvert_exporter": "python",
   "pygments_lexer": "ipython3",
   "version": "3.8.5"
  }
 },
 "nbformat": 4,
 "nbformat_minor": 4
}
